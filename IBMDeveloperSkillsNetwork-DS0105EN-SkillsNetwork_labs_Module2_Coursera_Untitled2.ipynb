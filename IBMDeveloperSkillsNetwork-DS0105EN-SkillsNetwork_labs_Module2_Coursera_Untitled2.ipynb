{
  "metadata": {
    "language_info": {
      "codemirror_mode": {
        "name": "python",
        "version": 3
      },
      "file_extension": ".py",
      "mimetype": "text/x-python",
      "name": "python",
      "nbconvert_exporter": "python",
      "pygments_lexer": "ipython3",
      "version": "3.8"
    },
    "kernelspec": {
      "name": "python",
      "display_name": "Pyolite",
      "language": "python"
    }
  },
  "nbformat_minor": 4,
  "nbformat": 4,
  "cells": [
    {
      "cell_type": "markdown",
      "source": "My Jupyter Notebook on IBM Watson studio",
      "metadata": {}
    },
    {
      "cell_type": "markdown",
      "source": "WILSON JULIAN\nBanker",
      "metadata": {}
    },
    {
      "cell_type": "markdown",
      "source": "I am interested in data science due to its relevance to the banking industry.",
      "metadata": {}
    },
    {
      "cell_type": "markdown",
      "source": "4 + 45",
      "metadata": {}
    },
    {
      "cell_type": "code",
      "source": "4+45",
      "metadata": {
        "trusted": true
      },
      "execution_count": 3,
      "outputs": [
        {
          "execution_count": 3,
          "output_type": "execute_result",
          "data": {
            "text/plain": "49"
          },
          "metadata": {}
        }
      ]
    },
    {
      "cell_type": "markdown",
      "source": "|Header|header|Header|\n<a href=\"https://dataplatform.cloud.ibm.com/gallery\">IBM Cloud Gallery<a/>\n<a href=\"https://bbc.com\"> BBC<a/>",
      "metadata": {}
    }
  ]
}